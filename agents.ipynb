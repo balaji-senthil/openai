{
 "cells": [
  {
   "cell_type": "markdown",
   "id": "03ab019d",
   "metadata": {},
   "source": [
    "## Agents"
   ]
  },
  {
   "cell_type": "markdown",
   "id": "d76c7822",
   "metadata": {},
   "source": [
    "### 🤖 What is an Agent?\n",
    "\n",
    "- An LLM configured with specific instructions to do a task. It may use tools to achieve more specific goals."
   ]
  },
  {
   "cell_type": "markdown",
   "id": "14609222",
   "metadata": {},
   "source": [
    "#### install"
   ]
  },
  {
   "cell_type": "code",
   "execution_count": null,
   "id": "233f3987",
   "metadata": {},
   "outputs": [],
   "source": [
    "# ! pip install openai-agents nest_asyncio\n"
   ]
  },
  {
   "cell_type": "markdown",
   "id": "b9af22f6",
   "metadata": {},
   "source": [
    "### imports"
   ]
  },
  {
   "cell_type": "code",
   "execution_count": 25,
   "id": "b6b5bd14",
   "metadata": {},
   "outputs": [],
   "source": [
    "from pydantic import BaseModel\n",
    "import dotenv\n",
    "import nest_asyncio\n",
    "from agents import Agent, Runner, GuardrailFunctionOutput, function_tool\n",
    "from openai.types.responses import ResponseTextDeltaEvent\n",
    "import asyncio\n",
    "from typing import AsyncGenerator\n",
    "import requests\n",
    "import json\n",
    "from IPython.display import display, Markdown, DisplayHandle\n",
    "import os"
   ]
  },
  {
   "cell_type": "markdown",
   "id": "10f3c5c9",
   "metadata": {},
   "source": [
    "##### Apply nest_asyncio to allow asyncio event loops to be nested"
   ]
  },
  {
   "cell_type": "code",
   "execution_count": 3,
   "id": "a01a7718",
   "metadata": {},
   "outputs": [],
   "source": [
    "nest_asyncio.apply()"
   ]
  },
  {
   "cell_type": "markdown",
   "id": "c0812c81",
   "metadata": {},
   "source": [
    "#### Load environment variables"
   ]
  },
  {
   "cell_type": "code",
   "execution_count": 26,
   "id": "cd9010c1",
   "metadata": {},
   "outputs": [],
   "source": [
    "dotenv.load_dotenv()\n",
    "\n",
    "GPT_4_1_NANO = os.getenv('CHEAP_AND_BEST_MODEL', 'gpt-4.1-nano')"
   ]
  },
  {
   "cell_type": "markdown",
   "id": "e746044d",
   "metadata": {},
   "source": [
    "##### function tool"
   ]
  },
  {
   "cell_type": "code",
   "execution_count": 65,
   "id": "04939c25",
   "metadata": {},
   "outputs": [],
   "source": [
    "@function_tool\n",
    "def get_usd_base_rate() -> dict:\n",
    "  \"\"\"\n",
    "  Get today's USD base rate.\n",
    "  \"\"\"\n",
    "  response: dict = requests.get(\"https://api.vatcomply.com/rates?base=USD\")\n",
    "  if response.status_code != 200:\n",
    "    return f\"Error: {response.status_code}\"\n",
    "  return response.json()"
   ]
  },
  {
   "cell_type": "markdown",
   "id": "bd452b0b",
   "metadata": {},
   "source": [
    "### Agent with tool"
   ]
  },
  {
   "cell_type": "code",
   "execution_count": 66,
   "id": "54b4b9f7",
   "metadata": {},
   "outputs": [],
   "source": [
    "currency_agent = Agent(\n",
    "  name=\"Currency Agent\",\n",
    "  model=GPT_4_1_NANO,\n",
    "  tools=[get_usd_base_rate],\n",
    "  instructions=\"\"\"You are an expert financial assistant, with expertise in currency conversion. To get the latest USD base rate, use the get_usd_base_rate function.\n",
    "Provide the user with answers in their requested currency and USD equivalent.\n",
    "\n",
    "Example: \n",
    "User: How much does it cost to buy a tesla in London?\n",
    "Assistant: The cost of a Tesla in London is £50,000. This is equivalent to $65,000 USD based on the current exchange rate.\n",
    "\"\"\"\n",
    ")"
   ]
  },
  {
   "cell_type": "markdown",
   "id": "ee49995a",
   "metadata": {},
   "source": [
    "### Ask the agent"
   ]
  },
  {
   "cell_type": "code",
   "execution_count": 67,
   "id": "9508100a",
   "metadata": {},
   "outputs": [],
   "source": [
    "async def ask_agent(q: str, agent: Agent, context: object = None) -> AsyncGenerator[str, None]:      \n",
    "    result = Runner.run_streamed(agent, input=q, context=context)\n",
    "    async for event in result.stream_events():\n",
    "        if event.type == \"raw_response_event\" and isinstance(event.data, ResponseTextDeltaEvent):\n",
    "            yield event.data.delta"
   ]
  },
  {
   "cell_type": "markdown",
   "id": "c5891c26",
   "metadata": {},
   "source": [
    "##### question"
   ]
  },
  {
   "cell_type": "code",
   "execution_count": 68,
   "id": "e7f39ea8",
   "metadata": {},
   "outputs": [],
   "source": [
    "question: str = \"How much does it cost to buy a tesla in Canada?\""
   ]
  },
  {
   "cell_type": "markdown",
   "id": "d54882d9",
   "metadata": {},
   "source": [
    "#### Streaming Response (with Markdown)"
   ]
  },
  {
   "cell_type": "code",
   "execution_count": 69,
   "id": "714aec2e",
   "metadata": {},
   "outputs": [],
   "source": [
    "async def stream_response(q: str, agent: Agent, context: Any = None) -> AsyncGenerator[str, None]:\n",
    "    \"\"\"\n",
    "    Stream the response from the agent.\n",
    "    \"\"\"\n",
    "    full_response = \"\"\n",
    "    display_handle = display(Markdown(full_response), display_id=True)\n",
    "    async for chunk in ask_agent(q, agent, context):\n",
    "      full_response += chunk\n",
    "      display_handle.update(Markdown(full_response))\n",
    "      await asyncio.sleep(0.01)"
   ]
  },
  {
   "cell_type": "code",
   "execution_count": 70,
   "id": "940ab477",
   "metadata": {},
   "outputs": [
    {
     "data": {
      "text/markdown": [
       "The current exchange rate is approximately 1 USD = 1.39 CAD. The price of a Tesla in Canada varies, but let's assume it costs around CAD 60,000. This would be roughly equivalent to about $43,165 USD based on the current exchange rate."
      ],
      "text/plain": [
       "<IPython.core.display.Markdown object>"
      ]
     },
     "metadata": {},
     "output_type": "display_data"
    }
   ],
   "source": [
    "asyncio.run(stream_response(question, currency_agent))"
   ]
  },
  {
   "cell_type": "markdown",
   "id": "0fff81f6",
   "metadata": {},
   "source": [
    "### Handoffs"
   ]
  },
  {
   "cell_type": "markdown",
   "id": "e1f06334",
   "metadata": {},
   "source": [
    "##### What is a handoff 🔄\n",
    "- A mechanism that allows agents to transfer tasks to one or more other agents.\n",
    "- LLMs perceive handoffs just like any other tool."
   ]
  },
  {
   "cell_type": "markdown",
   "id": "34131200",
   "metadata": {},
   "source": [
    "##### NOTE: \n",
    "- A common pattern includes an initial triage/routing agent followed by specialized agents, with optional escalation to a human or more advanced agent."
   ]
  },
  {
   "cell_type": "markdown",
   "id": "6403903e",
   "metadata": {},
   "source": [
    "##### Example: Handoffs in Travel Agents"
   ]
  },
  {
   "cell_type": "markdown",
   "id": "0e677859",
   "metadata": {},
   "source": [
    "A handoff allows an agent to transfer a user's request to another specialized agent. In the travel domain, this could mean routing a query to a flight booking agent, hotel booking agent, or itinerary planner."
   ]
  },
  {
   "cell_type": "code",
   "execution_count": 71,
   "id": "83023a9d",
   "metadata": {},
   "outputs": [],
   "source": [
    "from agents import Agent, handoff\n",
    "\n",
    "flight_agent = Agent(\n",
    "  name=\"Flight Booking Agent\", \n",
    "  instructions=\"Book flights and answer flight-related queries.\",\n",
    "  model=GPT_4_1_NANO\n",
    "  )\n",
    "hotel_agent = Agent(\n",
    "  name=\"Hotel Booking Agent\", instructions=\"Book hotels and answer hotel-related queries.\",\n",
    "  model=GPT_4_1_NANO\n",
    ")\n",
    "itinerary_agent = Agent(\n",
    "  name=\"Itinerary Planner Agent\", instructions=\"Plan travel itineraries and suggest activities.\",\n",
    "  model=GPT_4_1_NANO\n",
    ")\n",
    "\n",
    "travel_triage_agent = Agent(\n",
    "    name=\"Travel Triage Agent\",\n",
    "    instructions=\"Route the user's request to the appropriate travel agent: flight, hotel, or itinerary.\",\n",
    "    handoffs=[\n",
    "        handoff(flight_agent),\n",
    "        handoff(hotel_agent),\n",
    "        handoff(itinerary_agent)\n",
    "    ],\n",
    "    model=GPT_4_1_NANO\n",
    ")"
   ]
  },
  {
   "cell_type": "markdown",
   "id": "f941540a",
   "metadata": {},
   "source": [
    "### Example: Routing a User Query\n",
    "Let's see how a user's request is routed to the right agent."
   ]
  },
  {
   "cell_type": "code",
   "execution_count": 73,
   "id": "2dbc023f",
   "metadata": {},
   "outputs": [
    {
     "name": "stdout",
     "output_type": "stream",
     "text": [
      "I'll assist you with booking a flight from New York to London. Could you please provide me with the preferred dates of travel, class of service (economy, business, first class), and any other specific preferences?\n",
      "I can help you find a hotel in Paris. Could you please tell me your preferred check-in and check-out dates, the number of guests, and any specific preferences or budget?\n",
      "I can help you find a hotel in Paris. Could you please tell me your preferred check-in and check-out dates, the number of guests, and any specific preferences or budget?\n",
      "Certainly! Here's a 3-day itinerary for Tokyo that balances popular attractions, cultural experiences, and local flavor:\n",
      "\n",
      "---\n",
      "\n",
      "### **Day 1: Classic Tokyo & Cultural Highlights**\n",
      "**Morning:**\n",
      "- **Asakusa & Senso-ji Temple**: Start your day exploring Tokyo's oldest temple and the vibrant Nakamise shopping street for souvenirs and traditional snacks.\n",
      "- **Sumida River Cruise**: Enjoy a scenic boat ride from Asakusa to Odaiba, offering great views of the city skyline.\n",
      "\n",
      "**Afternoon:**\n",
      "- **Tokyo Skytree**: Head to the nearby Skytree for panoramic views of Tokyo and visit the surrounding Solamachi shopping complex.\n",
      "- **Ueno Park & Ameyoko Market**: Walk through Ueno Park, visit Ueno Zoo if interested, and explore Ameyoko Market for street food and bargain shopping.\n",
      "\n",
      "**Evening:**\n",
      "- **Akihabara**: Immerse yourself in anime, manga, and electronic shops. Have dinner at a themed café or enjoy a game arcade experience.\n",
      "\n",
      "---\n",
      "\n",
      "### **Day 2: Modern Tokyo & Shopping**\n",
      "**Morning:**\n",
      "- **Harajuku & Takeshita Street**: Experience quirky fashion trends and youth culture. Visit nearby Meiji Shrine for a peaceful retreat amidst the city.\n",
      "\n",
      "**Afternoon:**\n",
      "- **Omotesando**: Stroll down this upscale shopping street with designer boutiques and architecture.\n",
      "- **Shibuya Crossing**: Witness the world's busiest pedestrian scramble and explore Shibuya’s shops and entertainment options.\n",
      "\n",
      "**Evening:**\n",
      "- **Roppongi Hills & Tokyo Midtown**: Enjoy city views from Mori Tower, visit art museums, and dine at high-end restaurants.\n",
      "- Optional: Visit teamLab Borderless digital art museum in nearby Odaiba for an immersive art experience.\n",
      "\n",
      "---\n",
      "\n",
      "### **Day 3: Unique & Offbeat Experiences**\n",
      "**Morning:**\n",
      "- **Tsukiji Outer Market**: Enjoy fresh sushi and seafood for breakfast, then explore the market for food souvenirs.\n",
      "- **Hamarikyu Gardens**: Relax in this traditional garden with a tea house on a pond.\n",
      "\n",
      "**Afternoon:**\n",
      "- **Tokyo Disneyland or DisneySea**: Spend the afternoon and evening at one of these theme parks for fun and entertainment.\n",
      "\n",
      "**Optional Evening:**\n",
      "- If not visiting Disneyland, consider exploring **Shimokitazawa** for indie shops, vintage stores, and cozy cafes.\n",
      "\n",
      "---\n",
      "\n",
      "Would you like suggestions on transportation options, dining spots, or accommodations to complement this itinerary?\n",
      "Certainly! Here's a 3-day itinerary for Tokyo that balances popular attractions, cultural experiences, and local flavor:\n",
      "\n",
      "---\n",
      "\n",
      "### **Day 1: Classic Tokyo & Cultural Highlights**\n",
      "**Morning:**\n",
      "- **Asakusa & Senso-ji Temple**: Start your day exploring Tokyo's oldest temple and the vibrant Nakamise shopping street for souvenirs and traditional snacks.\n",
      "- **Sumida River Cruise**: Enjoy a scenic boat ride from Asakusa to Odaiba, offering great views of the city skyline.\n",
      "\n",
      "**Afternoon:**\n",
      "- **Tokyo Skytree**: Head to the nearby Skytree for panoramic views of Tokyo and visit the surrounding Solamachi shopping complex.\n",
      "- **Ueno Park & Ameyoko Market**: Walk through Ueno Park, visit Ueno Zoo if interested, and explore Ameyoko Market for street food and bargain shopping.\n",
      "\n",
      "**Evening:**\n",
      "- **Akihabara**: Immerse yourself in anime, manga, and electronic shops. Have dinner at a themed café or enjoy a game arcade experience.\n",
      "\n",
      "---\n",
      "\n",
      "### **Day 2: Modern Tokyo & Shopping**\n",
      "**Morning:**\n",
      "- **Harajuku & Takeshita Street**: Experience quirky fashion trends and youth culture. Visit nearby Meiji Shrine for a peaceful retreat amidst the city.\n",
      "\n",
      "**Afternoon:**\n",
      "- **Omotesando**: Stroll down this upscale shopping street with designer boutiques and architecture.\n",
      "- **Shibuya Crossing**: Witness the world's busiest pedestrian scramble and explore Shibuya’s shops and entertainment options.\n",
      "\n",
      "**Evening:**\n",
      "- **Roppongi Hills & Tokyo Midtown**: Enjoy city views from Mori Tower, visit art museums, and dine at high-end restaurants.\n",
      "- Optional: Visit teamLab Borderless digital art museum in nearby Odaiba for an immersive art experience.\n",
      "\n",
      "---\n",
      "\n",
      "### **Day 3: Unique & Offbeat Experiences**\n",
      "**Morning:**\n",
      "- **Tsukiji Outer Market**: Enjoy fresh sushi and seafood for breakfast, then explore the market for food souvenirs.\n",
      "- **Hamarikyu Gardens**: Relax in this traditional garden with a tea house on a pond.\n",
      "\n",
      "**Afternoon:**\n",
      "- **Tokyo Disneyland or DisneySea**: Spend the afternoon and evening at one of these theme parks for fun and entertainment.\n",
      "\n",
      "**Optional Evening:**\n",
      "- If not visiting Disneyland, consider exploring **Shimokitazawa** for indie shops, vintage stores, and cozy cafes.\n",
      "\n",
      "---\n",
      "\n",
      "Would you like suggestions on transportation options, dining spots, or accommodations to complement this itinerary?\n"
     ]
    }
   ],
   "source": [
    "async def ask_travel_ai(q: str):\n",
    "    result = await Runner.run(travel_triage_agent, q)\n",
    "    print(result.final_output)\n",
    "\n",
    "# Example queries\n",
    "asyncio.run(ask_travel_ai(\"Book a flight from New York to London\"))\n",
    "asyncio.run(ask_travel_ai(\"Find a hotel in Paris\"))\n",
    "asyncio.run(ask_travel_ai(\"Plan a 3-day itinerary for Tokyo\"))"
   ]
  },
  {
   "cell_type": "markdown",
   "id": "7edd3cae",
   "metadata": {},
   "source": [
    "### Example: Streaming Response\n",
    "Let's see how a triage agent can stream responses while routing travel-related queries to the appropriate specialized agent."
   ]
  },
  {
   "cell_type": "code",
   "execution_count": 74,
   "id": "1e21d246",
   "metadata": {},
   "outputs": [
    {
     "data": {
      "text/markdown": [
       "I will now assist you with booking a flight from New York to Tokyo for next week. Please specify your preferred travel dates and any other preferences such as your class of service (economy, business, etc.)."
      ],
      "text/plain": [
       "<IPython.core.display.Markdown object>"
      ]
     },
     "metadata": {},
     "output_type": "display_data"
    },
    {
     "data": {
      "text/markdown": [
       "I can help you find a hotel in Paris for 3 nights. Do you have any preferences regarding the hotel type, location, or budget?"
      ],
      "text/plain": [
       "<IPython.core.display.Markdown object>"
      ]
     },
     "metadata": {},
     "output_type": "display_data"
    },
    {
     "data": {
      "text/markdown": [
       "Certainly! Here's a suggested 4-day itinerary for Rome, balancing historical sites, cultural experiences, and leisure:\n",
       "\n",
       "---\n",
       "\n",
       "### Day 1: Ancient Rome & Colosseum\n",
       "- **Morning:**  \n",
       "  - Visit the **Colosseum** (buy tickets in advance)  \n",
       "  - Explore the nearby **Roman Forum** and **Palatine Hill**  \n",
       "\n",
       "- **Afternoon:**  \n",
       "  - Walk through **Via dei Fori Imperiali**  \n",
       "  - Visit **Piazza Venezia** and **Altare della Patria**  \n",
       "\n",
       "- **Evening:**  \n",
       "  - Relax at **Piazza Navona**  \n",
       "  - Dinner in the area, try Roman specialties like carbonara or saltimbocca  \n",
       "\n",
       "---\n",
       "\n",
       "### Day 2: Vatican City\n",
       "- **Morning:**  \n",
       "  - Tour the **Vatican Museums** (including the Sistine Chapel) — pre-book tickets to avoid long lines  \n",
       "  - Visit **St. Peter's Basilica** and climb to the dome for panoramic views  \n",
       "\n",
       "- **Afternoon:**  \n",
       "  - Walk along the **Apostolic Palace** gardens (if available)  \n",
       "  - Explore **Castel Sant'Angelo**  \n",
       "\n",
       "- **Evening:**  \n",
       "  - Stroll along the Tiber River  \n",
       "  - Enjoy dinner near Piazza del Popolo or Trastevere  \n",
       "\n",
       "---\n",
       "\n",
       "### Day 3: Artistic & Historic Rome\n",
       "- **Morning:**  \n",
       "  - Visit **Pantheon** early to avoid crowds  \n",
       "  - Walk to **Piazza della Rotonda** and surrounding streets  \n",
       "\n",
       "- **Afternoon:**  \n",
       "  - Explore **Campo de' Fiori** and **Piazza Farnese**  \n",
       "  - Visit **Borghese Gallery and Gardens** (advance reservation required)  \n",
       "\n",
       "- **Evening:**  \n",
       "  - Spend time in **Trastevere** neighborhood, known for its vibrant nightlife and traditional Roman food  \n",
       "\n",
       "---\n",
       "\n",
       "### Day 4: Hidden Gems & Leisure\n",
       "- **Morning:**  \n",
       "  - Explore **Aventine Hill**, including **Santa Sabina** and the **Keyhole of Rome** for a unique view of St. Peter’s Dome  \n",
       "  - Walk through **Testaccio** neighborhood for authentic Roman cuisine  \n",
       "\n",
       "- **Afternoon:**  \n",
       "  - Relax in **Villa Borghese Park**  \n",
       "  - Optional: Rent a bike or boat in the park  \n",
       "\n",
       "- **Evening:**  \n",
       "  - Enjoy a farewell dinner with a view at a rooftop restaurant, such as **Terrazza Borromini** or similar  \n",
       "\n",
       "---\n",
       "\n",
       "Would you like personalized restaurant recommendations, local tips, or assistance with booking tickets?"
      ],
      "text/plain": [
       "<IPython.core.display.Markdown object>"
      ]
     },
     "metadata": {},
     "output_type": "display_data"
    }
   ],
   "source": [
    "asyncio.run(stream_response(agent=travel_triage_agent, q=\"Book me a flight from New York to Tokyo next week.\"))\n",
    "asyncio.run(stream_response(agent=travel_triage_agent, q=\"Find a hotel in Paris for 3 nights.\"))\n",
    "asyncio.run(stream_response(agent=travel_triage_agent, q=\"Plan a 4-day itinerary in Rome.\"))"
   ]
  },
  {
   "cell_type": "markdown",
   "id": "eef18f5d",
   "metadata": {},
   "source": [
    "#### Dynamic Instructions"
   ]
  },
  {
   "cell_type": "markdown",
   "id": "609f93b1",
   "metadata": {},
   "source": [
    "- To provide runtime instructions to the agent via the `dynamic_instructions` parameter. It can be of type regular function or an async function.\n",
    "- The function should return a string that will be used as the instructions for the agent."
   ]
  },
  {
   "cell_type": "markdown",
   "id": "78237eea",
   "metadata": {},
   "source": [
    "##### Example:"
   ]
  },
  {
   "cell_type": "code",
   "execution_count": null,
   "id": "b833a5b1",
   "metadata": {},
   "outputs": [],
   "source": [
    "from agents import RunContextWrapper, Agent\n",
    "from pydantic import BaseModel\n",
    "\n",
    "class UserContext(BaseModel):\n",
    "    \"\"\"\n",
    "    User context for the travel agent.\n",
    "    \"\"\"\n",
    "    name: str\n",
    "    location: str\n",
    "    preferences: dict\n",
    "\n",
    "def dynamic_instructions(context: RunContextWrapper[UserContext], agent: Agent[UserContext]) -> str:\n",
    "    \"\"\"\n",
    "    Generate dynamic instructions based on the context.\n",
    "    \"\"\"\n",
    "    if context and context.context:\n",
    "        user = context.context\n",
    "        return f\"\"\"Greet the user with their name {user.name}. Assist the User from {user.location}, with their travel-related queries.\n",
    "Consider their preferences: {', '.join([f'{k}: {v}' for k, v in user.preferences.items()])}.\"\"\"\n",
    "    else:\n",
    "        return \"Assist the user with their travel-related queries. Context was not provided.\"\n",
    "\n",
    "\n",
    "triage_agent_with_dynamic_instructions: Agent = Agent[UserContext](\n",
    "    name=\"Travel Triage Agent\",\n",
    "    model=GPT_4_1_NANO,\n",
    "    instructions=dynamic_instructions\n",
    ")"
   ]
  },
  {
   "cell_type": "code",
   "execution_count": 76,
   "id": "8115495f",
   "metadata": {},
   "outputs": [
    {
     "data": {
      "text/markdown": [
       "Hello Alice! Planning a trip to Madurai in April 2025 sounds exciting. Madurai is rich in culture and famous for its stunning temples and vibrant food scene. \n",
       "\n",
       "Since you're traveling solo and prefer a mid-range budget, I can help you with:\n",
       "\n",
       "- Best accommodations options\n",
       "- Must-visit cultural sites\n",
       "- Local cuisine and food experiences\n",
       "- Travel tips for April in Madurai\n",
       "\n",
       "Would you like me to suggest an itinerary, recommend accommodations, or provide details on transportation options?"
      ],
      "text/plain": [
       "<IPython.core.display.Markdown object>"
      ]
     },
     "metadata": {},
     "output_type": "display_data"
    }
   ],
   "source": [
    "# Create a sample user context\n",
    "user = UserContext(\n",
    "    name=\"Alice\",\n",
    "    location=\"New York\",\n",
    "    preferences={\n",
    "        \"budget\": \"mid-range\",\n",
    "        \"interests\": [\"culture\", \"food\"],\n",
    "        \"travel_style\": \"solo\"\n",
    "    }\n",
    ")\n",
    "context = RunContextWrapper(user)\n",
    "asyncio.run(stream_response(q='Travel to Madurai, Apr 2025', agent=triage_agent_with_dynamic_instructions, context=context.context))"
   ]
  }
 ],
 "metadata": {
  "kernelspec": {
   "display_name": "openai-venv (3.11.5)",
   "language": "python",
   "name": "python3"
  },
  "language_info": {
   "codemirror_mode": {
    "name": "ipython",
    "version": 3
   },
   "file_extension": ".py",
   "mimetype": "text/x-python",
   "name": "python",
   "nbconvert_exporter": "python",
   "pygments_lexer": "ipython3",
   "version": "3.11.5"
  }
 },
 "nbformat": 4,
 "nbformat_minor": 5
}
