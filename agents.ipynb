{
 "cells": [
  {
   "cell_type": "markdown",
   "id": "03ab019d",
   "metadata": {},
   "source": [
    "## Agents"
   ]
  },
  {
   "cell_type": "markdown",
   "id": "d76c7822",
   "metadata": {},
   "source": [
    "### 🤖 What is an Agent?\n",
    "\n",
    "- An LLM configured with specific instructions to do a task. It may use tools to achieve more specific goals."
   ]
  },
  {
   "cell_type": "markdown",
   "id": "14609222",
   "metadata": {},
   "source": [
    "#### install"
   ]
  },
  {
   "cell_type": "code",
   "execution_count": null,
   "id": "233f3987",
   "metadata": {},
   "outputs": [],
   "source": [
    "# ! pip install openai-agents nest_asyncio\n"
   ]
  },
  {
   "cell_type": "markdown",
   "id": "b9af22f6",
   "metadata": {},
   "source": [
    "### imports"
   ]
  },
  {
   "cell_type": "code",
   "execution_count": null,
   "id": "b6b5bd14",
   "metadata": {},
   "outputs": [],
   "source": [
    "from pydantic import BaseModel\n",
    "import dotenv\n",
    "import nest_asyncio\n",
    "from agents import Agent, Runner, GuardrailFunctionOutput, function_tool\n",
    "from openai.types.responses import ResponseTextDeltaEvent\n",
    "import asyncio\n",
    "from typing import AsyncGenerator\n",
    "import requests\n",
    "import json\n",
    "from IPython.display import display, Markdown, DisplayHandle"
   ]
  },
  {
   "cell_type": "markdown",
   "id": "10f3c5c9",
   "metadata": {},
   "source": [
    "##### Apply nest_asyncio to allow asyncio event loops to be nested"
   ]
  },
  {
   "cell_type": "code",
   "execution_count": null,
   "id": "a01a7718",
   "metadata": {},
   "outputs": [],
   "source": [
    "nest_asyncio.apply()"
   ]
  },
  {
   "cell_type": "markdown",
   "id": "c0812c81",
   "metadata": {},
   "source": [
    "#### Load environment variables"
   ]
  },
  {
   "cell_type": "code",
   "execution_count": null,
   "id": "cd9010c1",
   "metadata": {},
   "outputs": [],
   "source": [
    "dotenv.load_dotenv()"
   ]
  },
  {
   "cell_type": "markdown",
   "id": "e746044d",
   "metadata": {},
   "source": [
    "##### function tool"
   ]
  },
  {
   "cell_type": "code",
   "execution_count": null,
   "id": "04939c25",
   "metadata": {},
   "outputs": [],
   "source": [
    "@function_tool\n",
    "def get_usd_base_rate() -> dict:\n",
    "  \"\"\"\n",
    "  Get today's USD base rate.\n",
    "  \"\"\"\n",
    "  response: dict = requests.get(\"https://api.vatcomply.com/rates?base=USD\")\n",
    "  if response.status_code != 200:\n",
    "    return f\"Error: {response.status_code}\"\n",
    "  return response.json()"
   ]
  },
  {
   "cell_type": "markdown",
   "id": "bd452b0b",
   "metadata": {},
   "source": [
    "### Agent with tool"
   ]
  },
  {
   "cell_type": "code",
   "execution_count": null,
   "id": "54b4b9f7",
   "metadata": {},
   "outputs": [],
   "source": [
    "currency_agent = Agent(\n",
    "  name=\"Currency Agent\",\n",
    "  model='gpt-4o-mini',\n",
    "  tools=[get_usd_base_rate],\n",
    "  instructions=\"\"\"You are an expert financial assistant, with expertise in currency conversion. To get the latest USD base rate, use the get_usd_base_rate function.\n",
    "Provide the user with answers in their requested currency and USD equivalent.\n",
    "\n",
    "Example: \n",
    "User: How much does it cost to buy a tesla in London?\n",
    "Assistant: The cost of a Tesla in London is £50,000. This is equivalent to $65,000 USD based on the current exchange rate.\n",
    "\"\"\"\n",
    ")"
   ]
  },
  {
   "cell_type": "markdown",
   "id": "ee49995a",
   "metadata": {},
   "source": [
    "### Ask the agent"
   ]
  },
  {
   "cell_type": "code",
   "execution_count": 12,
   "id": "9508100a",
   "metadata": {},
   "outputs": [],
   "source": [
    "async def ask_ai(q: str) -> AsyncGenerator[str, None]:      \n",
    "    result = Runner.run_streamed(currency_agent, input=q)\n",
    "    async for event in result.stream_events():\n",
    "        if event.type == \"raw_response_event\" and isinstance(event.data, ResponseTextDeltaEvent):\n",
    "            yield event.data.delta"
   ]
  },
  {
   "cell_type": "markdown",
   "id": "c5891c26",
   "metadata": {},
   "source": [
    "##### question"
   ]
  },
  {
   "cell_type": "code",
   "execution_count": 13,
   "id": "e7f39ea8",
   "metadata": {},
   "outputs": [],
   "source": [
    "question: str = \"How much does it cost to buy a tesla in Canada?\""
   ]
  },
  {
   "cell_type": "markdown",
   "id": "d54882d9",
   "metadata": {},
   "source": [
    "#### Streaming Response (with Markdown)"
   ]
  },
  {
   "cell_type": "code",
   "execution_count": 14,
   "id": "940ab477",
   "metadata": {},
   "outputs": [
    {
     "data": {
      "text/markdown": [
       "The cost of a Tesla in Canada is typically around CAD 70,000. Based on the current exchange rate of 1 CAD = 0.723 USD, this is equivalent to approximately $51,090 USD."
      ],
      "text/plain": [
       "<IPython.core.display.Markdown object>"
      ]
     },
     "metadata": {},
     "output_type": "display_data"
    },
    {
     "data": {
      "text/plain": [
       "'The cost of a Tesla in Canada is typically around CAD 70,000. Based on the current exchange rate of 1 CAD = 0.723 USD, this is equivalent to approximately $51,090 USD.'"
      ]
     },
     "execution_count": 14,
     "metadata": {},
     "output_type": "execute_result"
    }
   ],
   "source": [
    "full_response: str = \"\"\n",
    "display_id: DisplayHandle = display(Markdown(full_response), display_id=True)\n",
    "\n",
    "async for chunk in ask_ai(question):\n",
    "    full_response += chunk\n",
    "    display_id.update(Markdown(full_response))\n",
    "    await asyncio.sleep(0.01)\n",
    "\n",
    "full_response"
   ]
  }
 ],
 "metadata": {
  "kernelspec": {
   "display_name": "openai-venv (3.11.5)",
   "language": "python",
   "name": "python3"
  },
  "language_info": {
   "codemirror_mode": {
    "name": "ipython",
    "version": 3
   },
   "file_extension": ".py",
   "mimetype": "text/x-python",
   "name": "python",
   "nbconvert_exporter": "python",
   "pygments_lexer": "ipython3",
   "version": "3.11.5"
  }
 },
 "nbformat": 4,
 "nbformat_minor": 5
}
