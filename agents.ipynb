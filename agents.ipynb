{
 "cells": [
  {
   "cell_type": "markdown",
   "id": "03ab019d",
   "metadata": {},
   "source": [
    "## Agents"
   ]
  },
  {
   "cell_type": "markdown",
   "id": "d76c7822",
   "metadata": {},
   "source": [
    "### 🤖 What is an Agent?\n",
    "\n",
    "- An LLM configured with specific instructions to do a task. It may use tools to achieve more specific goals."
   ]
  },
  {
   "cell_type": "markdown",
   "id": "14609222",
   "metadata": {},
   "source": [
    "#### install"
   ]
  },
  {
   "cell_type": "code",
   "execution_count": null,
   "id": "233f3987",
   "metadata": {},
   "outputs": [],
   "source": [
    "# ! pip install openai-agents nest_asyncio\n"
   ]
  },
  {
   "cell_type": "markdown",
   "id": "b9af22f6",
   "metadata": {},
   "source": [
    "### imports"
   ]
  },
  {
   "cell_type": "code",
   "execution_count": 25,
   "id": "b6b5bd14",
   "metadata": {},
   "outputs": [],
   "source": [
    "from pydantic import BaseModel\n",
    "import dotenv\n",
    "import nest_asyncio\n",
    "from agents import Agent, Runner, GuardrailFunctionOutput, function_tool\n",
    "from openai.types.responses import ResponseTextDeltaEvent\n",
    "import asyncio\n",
    "from typing import AsyncGenerator\n",
    "import requests\n",
    "import json\n",
    "from IPython.display import display, Markdown, DisplayHandle\n",
    "import os"
   ]
  },
  {
   "cell_type": "markdown",
   "id": "10f3c5c9",
   "metadata": {},
   "source": [
    "##### Apply nest_asyncio to allow asyncio event loops to be nested"
   ]
  },
  {
   "cell_type": "code",
   "execution_count": 3,
   "id": "a01a7718",
   "metadata": {},
   "outputs": [],
   "source": [
    "nest_asyncio.apply()"
   ]
  },
  {
   "cell_type": "markdown",
   "id": "c0812c81",
   "metadata": {},
   "source": [
    "#### Load environment variables"
   ]
  },
  {
   "cell_type": "code",
   "execution_count": 26,
   "id": "cd9010c1",
   "metadata": {},
   "outputs": [],
   "source": [
    "dotenv.load_dotenv()\n",
    "\n",
    "GPT_4_1_NANO = os.getenv('CHEAP_AND_BEST_MODEL', 'gpt-4.1-nano')"
   ]
  },
  {
   "cell_type": "markdown",
   "id": "e746044d",
   "metadata": {},
   "source": [
    "##### function tool"
   ]
  },
  {
   "cell_type": "code",
   "execution_count": 5,
   "id": "04939c25",
   "metadata": {},
   "outputs": [],
   "source": [
    "@function_tool\n",
    "def get_usd_base_rate() -> dict:\n",
    "  \"\"\"\n",
    "  Get today's USD base rate.\n",
    "  \"\"\"\n",
    "  response: dict = requests.get(\"https://api.vatcomply.com/rates?base=USD\")\n",
    "  if response.status_code != 200:\n",
    "    return f\"Error: {response.status_code}\"\n",
    "  return response.json()"
   ]
  },
  {
   "cell_type": "markdown",
   "id": "bd452b0b",
   "metadata": {},
   "source": [
    "### Agent with tool"
   ]
  },
  {
   "cell_type": "code",
   "execution_count": null,
   "id": "54b4b9f7",
   "metadata": {},
   "outputs": [],
   "source": [
    "currency_agent = Agent(\n",
    "  name=\"Currency Agent\",\n",
    "  model=GPT_4_1_NANO,\n",
    "  tools=[get_usd_base_rate],\n",
    "  instructions=\"\"\"You are an expert financial assistant, with expertise in currency conversion. To get the latest USD base rate, use the get_usd_base_rate function.\n",
    "Provide the user with answers in their requested currency and USD equivalent.\n",
    "\n",
    "Example: \n",
    "User: How much does it cost to buy a tesla in London?\n",
    "Assistant: The cost of a Tesla in London is £50,000. This is equivalent to $65,000 USD based on the current exchange rate.\n",
    "\"\"\"\n",
    ")"
   ]
  },
  {
   "cell_type": "markdown",
   "id": "ee49995a",
   "metadata": {},
   "source": [
    "### Ask the agent"
   ]
  },
  {
   "cell_type": "code",
   "execution_count": 14,
   "id": "9508100a",
   "metadata": {},
   "outputs": [],
   "source": [
    "async def ask_agent(q: str, agent: Agent) -> AsyncGenerator[str, None]:      \n",
    "    result = Runner.run_streamed(agent, input=q)\n",
    "    async for event in result.stream_events():\n",
    "        if event.type == \"raw_response_event\" and isinstance(event.data, ResponseTextDeltaEvent):\n",
    "            yield event.data.delta"
   ]
  },
  {
   "cell_type": "markdown",
   "id": "c5891c26",
   "metadata": {},
   "source": [
    "##### question"
   ]
  },
  {
   "cell_type": "code",
   "execution_count": 8,
   "id": "e7f39ea8",
   "metadata": {},
   "outputs": [],
   "source": [
    "question: str = \"How much does it cost to buy a tesla in Canada?\""
   ]
  },
  {
   "cell_type": "markdown",
   "id": "d54882d9",
   "metadata": {},
   "source": [
    "#### Streaming Response (with Markdown)"
   ]
  },
  {
   "cell_type": "code",
   "execution_count": 16,
   "id": "714aec2e",
   "metadata": {},
   "outputs": [],
   "source": [
    "async def stream_response(q: str, agent: Agent) -> AsyncGenerator[str, None]:\n",
    "    \"\"\"\n",
    "    Stream the response from the agent.\n",
    "    \"\"\"\n",
    "    full_response = \"\"\n",
    "    display_handle = display(Markdown(full_response), display_id=True)\n",
    "    async for chunk in ask_agent(q, agent):\n",
    "      full_response += chunk\n",
    "      display_handle.update(Markdown(full_response))\n",
    "      await asyncio.sleep(0.01)"
   ]
  },
  {
   "cell_type": "code",
   "execution_count": 21,
   "id": "940ab477",
   "metadata": {},
   "outputs": [
    {
     "data": {
      "text/markdown": [
       "The cost of a Tesla in Canada is approximately CAD 70,000. Based on the current exchange rate, this is equivalent to about $50,500 USD. \n",
       "\n",
       "(Exchange rate: 1 CAD = 0.722 USD)"
      ],
      "text/plain": [
       "<IPython.core.display.Markdown object>"
      ]
     },
     "metadata": {},
     "output_type": "display_data"
    }
   ],
   "source": [
    "asyncio.run(stream_response(question, currency_agent))"
   ]
  },
  {
   "cell_type": "markdown",
   "id": "0fff81f6",
   "metadata": {},
   "source": [
    "### Handoffs"
   ]
  },
  {
   "cell_type": "markdown",
   "id": "e1f06334",
   "metadata": {},
   "source": [
    "##### What is a handoff 🔄\n",
    "- A mechanism that allows agents to transfer tasks to one or more other agents.\n",
    "- LLMs perceive handoffs just like any other tool."
   ]
  },
  {
   "cell_type": "markdown",
   "id": "34131200",
   "metadata": {},
   "source": [
    "##### NOTE: \n",
    "- A common pattern includes an initial triage/routing agent followed by specialized agents, with optional escalation to a human or more advanced agent."
   ]
  },
  {
   "cell_type": "markdown",
   "id": "6403903e",
   "metadata": {},
   "source": [
    "##### Example: Handoffs in Travel Agents"
   ]
  },
  {
   "cell_type": "markdown",
   "id": "0e677859",
   "metadata": {},
   "source": [
    "A handoff allows an agent to transfer a user's request to another specialized agent. In the travel domain, this could mean routing a query to a flight booking agent, hotel booking agent, or itinerary planner."
   ]
  },
  {
   "cell_type": "code",
   "execution_count": 28,
   "id": "83023a9d",
   "metadata": {},
   "outputs": [],
   "source": [
    "from agents import Agent, handoff\n",
    "\n",
    "flight_agent = Agent(\n",
    "  name=\"Flight Booking Agent\", \n",
    "  instructions=\"Book flights and answer flight-related queries.\",\n",
    "  model=GPT_4_1_NANO\n",
    "  )\n",
    "hotel_agent = Agent(\n",
    "  name=\"Hotel Booking Agent\", instructions=\"Book hotels and answer hotel-related queries.\",\n",
    "  model=GPT_4_1_NANO\n",
    ")\n",
    "itinerary_agent = Agent(\n",
    "  name=\"Itinerary Planner Agent\", instructions=\"Plan travel itineraries and suggest activities.\",\n",
    "  model=GPT_4_1_NANO\n",
    ")\n",
    "\n",
    "travel_triage_agent = Agent(\n",
    "    name=\"Travel Triage Agent\",\n",
    "    instructions=\"Route the user's request to the appropriate travel agent: flight, hotel, or itinerary.\",\n",
    "    handoffs=[\n",
    "        handoff(flight_agent),\n",
    "        handoff(hotel_agent),\n",
    "        handoff(itinerary_agent)\n",
    "    ],\n",
    "    model=GPT_4_1_NANO\n",
    ")"
   ]
  },
  {
   "cell_type": "markdown",
   "id": "f941540a",
   "metadata": {},
   "source": [
    "### Example: Routing a User Query\n",
    "Let's see how a user's request is routed to the right agent."
   ]
  },
  {
   "cell_type": "code",
   "execution_count": null,
   "id": "2dbc023f",
   "metadata": {},
   "outputs": [],
   "source": [
    "async def ask_travel_ai(q: str):\n",
    "    result = await Runner.run(travel_triage_agent, q)\n",
    "    print(result.final_output)\n",
    "\n",
    "# Example queries\n",
    "await ask_travel_ai(\"Book me a flight from New York to Tokyo next week.\")\n",
    "await ask_travel_ai(\"Find a hotel in Paris for 3 nights.\")\n",
    "await ask_travel_ai(\"Plan a 4-day itinerary in Rome.\")"
   ]
  },
  {
   "cell_type": "markdown",
   "id": "7edd3cae",
   "metadata": {},
   "source": [
    "### Example: Streaming Response\n",
    "Let's see how a triage agent can stream responses while routing travel-related queries to the appropriate specialized agent."
   ]
  },
  {
   "cell_type": "code",
   "execution_count": null,
   "id": "1e21d246",
   "metadata": {},
   "outputs": [
    {
     "data": {
      "text/markdown": [
       "I will now connect you to a flight booking agent to assist with your flight reservation from New York to Tokyo next week."
      ],
      "text/plain": [
       "<IPython.core.display.Markdown object>"
      ]
     },
     "metadata": {},
     "output_type": "display_data"
    },
    {
     "data": {
      "text/markdown": [
       "I can help you find a hotel in Paris for 3 nights. Do you have specific preferences or requirements, such as the dates of stay, budget, or preferred location within Paris?"
      ],
      "text/plain": [
       "<IPython.core.display.Markdown object>"
      ]
     },
     "metadata": {},
     "output_type": "display_data"
    },
    {
     "data": {
      "text/markdown": [
       "Certainly! Here's a suggested 4-day itinerary for Rome, balancing historical sights, cultural experiences, and leisure:\n",
       "\n",
       "### Day 1: Ancient Rome & the Colosseum\n",
       "- **Morning:**\n",
       "  - Visit the **Colosseum**; consider booking a guided tour to explore its history deeply.\n",
       "  - Walk through the **Roman Forum** and **Palatine Hill** nearby to see ancient ruins.\n",
       "- **Afternoon:**\n",
       "  - Have lunch in the Monti district, known for its cozy cafes.\n",
       "  - Explore the **Pantheon**, one of Rome's best-preserved ancient buildings.\n",
       "- **Evening:**\n",
       "  - Stroll around Piazza Navona and enjoy dinner at a local trattoria.\n",
       "\n",
       "### Day 2: Vatican City & Surroundings\n",
       "- **Morning:**\n",
       "  - Tour the **Vatican Museums**, including the **Sistine Chapel**.\n",
       "  - Visit **St. Peter's Basilica** and if interested, climb to the dome for panoramic views.\n",
       "- **Afternoon:**\n",
       "  - Walk across the **Vatican Gardens** or relax in **St. Peter’s Square**.\n",
       "  - Enjoy lunch near the Vatican.\n",
       "- **Evening:**\n",
       "  - Explore the Trastevere neighborhood, famous for lively streets and authentic Roman cuisine.\n",
       "\n",
       "### Day 3: Artistic & Baroque Rome\n",
       "- **Morning:**\n",
       "  - Visit **Piazza del Popolo** and **Spanish Steps**.\n",
       "  - Explore **Villa Borghese Park** and visit the **Galleria Borghese** (reserve tickets in advance).\n",
       "- **Afternoon:**\n",
       "  - Walk through via del Corso for shopping.\n",
       "  - Discover **Trevi Fountain** and toss a coin for good luck.\n",
       "- **Evening:**\n",
       "  - Enjoy dinner in the Campo de' Fiori area with lively nightlife.\n",
       "\n",
       "### Day 4: Off-the-Beaten-Path & Local Flavors\n",
       "- **Morning:**\n",
       "  - Visit **Testaccio** neighborhood for authentic food markets like **Mercato di Testaccio**.\n",
       "  - Explore the **Non-Catholic Cemetery** and **Cestius Pyramid**.\n",
       "- **Afternoon:**\n",
       "  - Take a leisurely walk along the **Appian Way (Via Appia Antica)**, exploring ancient ruins and aqueducts.\n",
       "  - Optional: rent a bike or walk down this historic route.\n",
       "- **Evening:**\n",
       "  - End your trip with a farewell dinner in Trastevere or another charming bairro.\n",
       "\n",
       "Would you like recommendations for specific restaurants, tours, or accommodations?"
      ],
      "text/plain": [
       "<IPython.core.display.Markdown object>"
      ]
     },
     "metadata": {},
     "output_type": "display_data"
    }
   ],
   "source": [
    "asyncio.run(stream_response(agent=travel_triage_agent, q=\"Book me a flight from New York to Tokyo next week.\"))\n",
    "asyncio.run(stream_response(agent=travel_triage_agent, q=\"Find a hotel in Paris for 3 nights.\"))\n",
    "asyncio.run(stream_response(agent=travel_triage_agent, q=\"Plan a 4-day itinerary in Rome.\"))"
   ]
  }
 ],
 "metadata": {
  "kernelspec": {
   "display_name": "openai-venv (3.11.5)",
   "language": "python",
   "name": "python3"
  },
  "language_info": {
   "codemirror_mode": {
    "name": "ipython",
    "version": 3
   },
   "file_extension": ".py",
   "mimetype": "text/x-python",
   "name": "python",
   "nbconvert_exporter": "python",
   "pygments_lexer": "ipython3",
   "version": "3.11.5"
  }
 },
 "nbformat": 4,
 "nbformat_minor": 5
}
