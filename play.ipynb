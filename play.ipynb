{
 "cells": [
  {
   "cell_type": "markdown",
   "id": "03ab019d",
   "metadata": {},
   "source": [
    "## OpenAI agents Playground"
   ]
  },
  {
   "cell_type": "markdown",
   "id": "d76c7822",
   "metadata": {},
   "source": [
    "# 🤖 OpenAI Agents Project\n",
    "\n",
    "## 🎯 Long-term Goals\n",
    "- 📚 Learn and understand OpenAI's agent architecture and capabilities\n",
    "- 🔧 Create custom agents for specific use cases and domains\n",
    "- 🔄 Integrate agents into other projects and workflows\n",
    "- 🧩 Experiment with multi-agent systems and orchestration\n",
    "\n",
    "## 🚀 Features\n",
    "- Agent-based architecture with specialized roles\n",
    "- Handoff system for intelligent task routing\n",
    "- Guardrails for safe and controlled agent behavior\n",
    "- Async execution for efficient processing\n",
    "\n",
    "## 💡 Use Cases\n",
    "- Educational assistants and tutoring\n",
    "- Research and information gathering\n",
    "- Workflow automation\n",
    "- Content generation and curation\n",
    "\n",
    "## 🛠️ Technologies Used\n",
    "- OpenAI's agent framework\n",
    "- Python async programming\n",
    "- Pydantic for data validation\n",
    "- Jupyter for interactive development"
   ]
  },
  {
   "cell_type": "markdown",
   "id": "14609222",
   "metadata": {},
   "source": [
    "#### install"
   ]
  },
  {
   "cell_type": "code",
   "execution_count": 19,
   "id": "233f3987",
   "metadata": {},
   "outputs": [],
   "source": [
    "# ! pip install openai-agents nest_asyncio\n"
   ]
  },
  {
   "cell_type": "markdown",
   "id": "b9af22f6",
   "metadata": {},
   "source": [
    "### imports"
   ]
  },
  {
   "cell_type": "code",
   "execution_count": 13,
   "id": "b6b5bd14",
   "metadata": {},
   "outputs": [],
   "source": [
    "from pydantic import BaseModel\n",
    "import dotenv\n",
    "import nest_asyncio\n",
    "from agents import Agent, Runner, GuardrailFunctionOutput\n",
    "import asyncio\n",
    "from IPython.display import display, Markdown"
   ]
  },
  {
   "cell_type": "markdown",
   "id": "10f3c5c9",
   "metadata": {},
   "source": [
    "##### Apply nest_asyncio to allow asyncio event loops to be nested"
   ]
  },
  {
   "cell_type": "code",
   "execution_count": 2,
   "id": "a01a7718",
   "metadata": {},
   "outputs": [],
   "source": [
    "nest_asyncio.apply()"
   ]
  },
  {
   "cell_type": "markdown",
   "id": "c0812c81",
   "metadata": {},
   "source": [
    "#### Load environment variables"
   ]
  },
  {
   "cell_type": "code",
   "execution_count": 3,
   "id": "cd9010c1",
   "metadata": {},
   "outputs": [
    {
     "data": {
      "text/plain": [
       "True"
      ]
     },
     "execution_count": 3,
     "metadata": {},
     "output_type": "execute_result"
    }
   ],
   "source": [
    "dotenv.load_dotenv()"
   ]
  },
  {
   "cell_type": "markdown",
   "id": "e746044d",
   "metadata": {},
   "source": [
    "#### First Agent - Math Agent"
   ]
  },
  {
   "cell_type": "code",
   "execution_count": 4,
   "id": "04939c25",
   "metadata": {},
   "outputs": [],
   "source": [
    "math_tutor_agent = Agent(\n",
    "    name=\"Math Tutor\",\n",
    "    instructions=\"You provide help with math problems. Explain your reasoning at each step and include examples\",\n",
    ")"
   ]
  },
  {
   "cell_type": "markdown",
   "id": "0f578ba2",
   "metadata": {},
   "source": [
    "#### Second and Third Agents - History and Science Agents"
   ]
  },
  {
   "cell_type": "code",
   "execution_count": 5,
   "id": "5bfb1c85",
   "metadata": {},
   "outputs": [],
   "source": [
    "history_tutor_agent = Agent(\n",
    "    name=\"History Tutor\",\n",
    "    handoff_description=\"Specialist agent for historical questions\",\n",
    "    instructions=\"You provide assistance with historical queries. Explain important events and context clearly.\",\n",
    ")\n",
    "\n",
    "science_tutor_agent = Agent(\n",
    "    name=\"Science Tutor\",\n",
    "    handoff_description=\"Specialist agent for science questions\",\n",
    "    instructions=\"You provide help with science problems. Explain concepts clearly and provide examples.\",\n",
    ")"
   ]
  },
  {
   "cell_type": "markdown",
   "id": "8c67441d",
   "metadata": {},
   "source": [
    "### Handoffs definition"
   ]
  },
  {
   "cell_type": "code",
   "execution_count": 6,
   "id": "7be32ef4",
   "metadata": {},
   "outputs": [],
   "source": [
    "triage_agent = Agent(\n",
    "    name=\"Triage Agent\",\n",
    "    instructions=\"You determine which agent to use based on the user's homework question\",\n",
    "    handoffs=[history_tutor_agent, science_tutor_agent, math_tutor_agent]\n",
    ")"
   ]
  },
  {
   "cell_type": "markdown",
   "id": "eee8490d",
   "metadata": {},
   "source": [
    "### Agents Orchestration"
   ]
  },
  {
   "cell_type": "code",
   "execution_count": 17,
   "id": "9508100a",
   "metadata": {},
   "outputs": [],
   "source": [
    "async def ask_ai(q: str) -> GuardrailFunctionOutput:\n",
    "    result = await Runner.run(triage_agent, q)\n",
    "    display(Markdown(result.final_output))"
   ]
  },
  {
   "cell_type": "markdown",
   "id": "751b29c5",
   "metadata": {},
   "source": [
    "### Adding Guardrails"
   ]
  },
  {
   "cell_type": "code",
   "execution_count": 8,
   "id": "f4958ac5",
   "metadata": {},
   "outputs": [],
   "source": [
    "class HomeworkOutput(BaseModel):\n",
    "    is_homework: bool\n",
    "    reasoning: str\n",
    "\n",
    "guardrail_agent = Agent(\n",
    "    name=\"Guardrail check\",\n",
    "    instructions=\"Check if the user is asking about homework.\",\n",
    "    output_type=HomeworkOutput,\n",
    ")\n",
    "\n",
    "async def homework_guardrail(ctx, agent, input_data):\n",
    "    result = await Runner.run(guardrail_agent, input_data, context=ctx.context)\n",
    "    final_output = result.final_output_as(HomeworkOutput)\n",
    "    return GuardrailFunctionOutput(\n",
    "        output_info=final_output,\n",
    "        tripwire_triggered=not final_output.is_homework,\n",
    "    )"
   ]
  },
  {
   "cell_type": "markdown",
   "id": "c5891c26",
   "metadata": {},
   "source": [
    "###### question"
   ]
  },
  {
   "cell_type": "code",
   "execution_count": 9,
   "id": "e7f39ea8",
   "metadata": {},
   "outputs": [],
   "source": [
    "question: str = \"What is the Pythagorean theorem?\""
   ]
  },
  {
   "cell_type": "markdown",
   "id": "a8ffb3cd",
   "metadata": {},
   "source": [
    "#### run main()"
   ]
  },
  {
   "cell_type": "code",
   "execution_count": 18,
   "id": "19832631",
   "metadata": {},
   "outputs": [
    {
     "data": {
      "text/markdown": [
       "The Pythagorean Theorem is a fundamental principle in geometry that applies to right-angled triangles. It states that in a right-angled triangle, the square of the length of the hypotenuse (the side opposite the right angle) is equal to the sum of the squares of the lengths of the other two sides.\n",
       "\n",
       "The theorem is usually written as:\n",
       "\n",
       "\\[ a^2 + b^2 = c^2 \\]\n",
       "\n",
       "where:\n",
       "- \\( c \\) is the length of the hypotenuse,\n",
       "- \\( a \\) and \\( b \\) are the lengths of the other two sides.\n",
       "\n",
       "### Example:\n",
       "\n",
       "Consider a right-angled triangle where one side is 3 units long, the other side is 4 units long, and you need to find the hypotenuse.\n",
       "\n",
       "1. **Identify the sides:** Let's say \\( a = 3 \\) and \\( b = 4 \\).\n",
       "\n",
       "2. **Apply the Pythagorean Theorem:**\n",
       "   \\[\n",
       "   a^2 + b^2 = c^2\n",
       "   \\]\n",
       "\n",
       "3. **Plug in the values:**\n",
       "   \\[\n",
       "   3^2 + 4^2 = c^2 \\\\\n",
       "   9 + 16 = c^2 \\\\\n",
       "   25 = c^2\n",
       "   \\]\n",
       "\n",
       "4. **Solve for \\( c \\) (the hypotenuse):**\n",
       "   \\[\n",
       "   c = \\sqrt{25} \\\\\n",
       "   c = 5\n",
       "   \\]\n",
       "\n",
       "Thus, the hypotenuse of the triangle is 5 units.\n",
       "\n",
       "This theorem is widely used in various fields, such as construction, navigation, and physics, whenever dealing with right-angled triangles."
      ],
      "text/plain": [
       "<IPython.core.display.Markdown object>"
      ]
     },
     "metadata": {},
     "output_type": "display_data"
    }
   ],
   "source": [
    "if __name__ == \"__main__\":\n",
    "    asyncio.run(ask_ai(question))"
   ]
  }
 ],
 "metadata": {
  "kernelspec": {
   "display_name": "openai-venv (3.11.5)",
   "language": "python",
   "name": "python3"
  },
  "language_info": {
   "codemirror_mode": {
    "name": "ipython",
    "version": 3
   },
   "file_extension": ".py",
   "mimetype": "text/x-python",
   "name": "python",
   "nbconvert_exporter": "python",
   "pygments_lexer": "ipython3",
   "version": "3.11.5"
  }
 },
 "nbformat": 4,
 "nbformat_minor": 5
}
