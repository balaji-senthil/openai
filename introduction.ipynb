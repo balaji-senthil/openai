{
 "cells": [
  {
   "cell_type": "markdown",
   "id": "03ab019d",
   "metadata": {},
   "source": [
    "## OpenAI agents Playground"
   ]
  },
  {
   "cell_type": "markdown",
   "id": "d76c7822",
   "metadata": {},
   "source": [
    "# 🤖 OpenAI Agents Project\n",
    "\n",
    "## 🎯 Long-term Goals\n",
    "- 📚 Learn and understand OpenAI's agent architecture and capabilities\n",
    "- 🔧 Create custom agents for specific use cases and domains\n",
    "- 🔄 Integrate agents into other projects and workflows\n",
    "- 🧩 Experiment with multi-agent systems and orchestration\n",
    "\n",
    "## 🚀 Features\n",
    "- Agent-based architecture with specialized roles\n",
    "- Handoff system for intelligent task routing\n",
    "- Guardrails for safe and controlled agent behavior\n",
    "- Async execution for efficient processing\n",
    "\n",
    "## 💡 Use Cases\n",
    "- Educational assistants and tutoring\n",
    "- Research and information gathering\n",
    "- Workflow automation\n",
    "- Content generation and curation\n",
    "\n",
    "## 🛠️ Technologies Used\n",
    "- OpenAI's agent framework\n",
    "- Python async programming\n",
    "- Pydantic for data validation\n",
    "- Jupyter for interactive development"
   ]
  },
  {
   "cell_type": "markdown",
   "id": "14609222",
   "metadata": {},
   "source": [
    "#### install"
   ]
  },
  {
   "cell_type": "code",
   "execution_count": 19,
   "id": "233f3987",
   "metadata": {},
   "outputs": [],
   "source": [
    "# ! pip install openai-agents nest_asyncio\n"
   ]
  },
  {
   "cell_type": "markdown",
   "id": "b9af22f6",
   "metadata": {},
   "source": [
    "### imports"
   ]
  },
  {
   "cell_type": "code",
   "execution_count": 56,
   "id": "b6b5bd14",
   "metadata": {},
   "outputs": [],
   "source": [
    "from pydantic import BaseModel\n",
    "import dotenv\n",
    "import nest_asyncio\n",
    "from agents import Agent, Runner, GuardrailFunctionOutput\n",
    "from openai.types.responses import ResponseTextDeltaEvent\n",
    "import asyncio\n",
    "from typing import AsyncGenerator\n",
    "from IPython.display import display, Markdown, DisplayHandle"
   ]
  },
  {
   "cell_type": "markdown",
   "id": "10f3c5c9",
   "metadata": {},
   "source": [
    "##### Apply nest_asyncio to allow asyncio event loops to be nested"
   ]
  },
  {
   "cell_type": "code",
   "execution_count": 2,
   "id": "a01a7718",
   "metadata": {},
   "outputs": [],
   "source": [
    "nest_asyncio.apply()"
   ]
  },
  {
   "cell_type": "markdown",
   "id": "c0812c81",
   "metadata": {},
   "source": [
    "#### Load environment variables"
   ]
  },
  {
   "cell_type": "code",
   "execution_count": 3,
   "id": "cd9010c1",
   "metadata": {},
   "outputs": [
    {
     "data": {
      "text/plain": [
       "True"
      ]
     },
     "execution_count": 3,
     "metadata": {},
     "output_type": "execute_result"
    }
   ],
   "source": [
    "dotenv.load_dotenv()"
   ]
  },
  {
   "cell_type": "markdown",
   "id": "e746044d",
   "metadata": {},
   "source": [
    "#### First Agent - Math Agent"
   ]
  },
  {
   "cell_type": "code",
   "execution_count": 4,
   "id": "04939c25",
   "metadata": {},
   "outputs": [],
   "source": [
    "math_tutor_agent = Agent(\n",
    "    name=\"Math Tutor\",\n",
    "    instructions=\"You provide help with math problems. Explain your reasoning at each step and include examples\",\n",
    ")"
   ]
  },
  {
   "cell_type": "markdown",
   "id": "0f578ba2",
   "metadata": {},
   "source": [
    "#### Second and Third Agents - History and Science Agents"
   ]
  },
  {
   "cell_type": "code",
   "execution_count": 5,
   "id": "5bfb1c85",
   "metadata": {},
   "outputs": [],
   "source": [
    "history_tutor_agent = Agent(\n",
    "    name=\"History Tutor\",\n",
    "    handoff_description=\"Specialist agent for historical questions\",\n",
    "    instructions=\"You provide assistance with historical queries. Explain important events and context clearly.\",\n",
    ")\n",
    "\n",
    "science_tutor_agent = Agent(\n",
    "    name=\"Science Tutor\",\n",
    "    handoff_description=\"Specialist agent for science questions\",\n",
    "    instructions=\"You provide help with science problems. Explain concepts clearly and provide examples.\",\n",
    ")"
   ]
  },
  {
   "cell_type": "markdown",
   "id": "8c67441d",
   "metadata": {},
   "source": [
    "### Handoffs definition"
   ]
  },
  {
   "cell_type": "code",
   "execution_count": 6,
   "id": "7be32ef4",
   "metadata": {},
   "outputs": [],
   "source": [
    "triage_agent = Agent(\n",
    "    name=\"Triage Agent\",\n",
    "    instructions=\"You determine which agent to use based on the user's homework question\",\n",
    "    handoffs=[history_tutor_agent, science_tutor_agent, math_tutor_agent]\n",
    ")"
   ]
  },
  {
   "cell_type": "markdown",
   "id": "eee8490d",
   "metadata": {},
   "source": [
    "### Agents Orchestration"
   ]
  },
  {
   "cell_type": "code",
   "execution_count": 51,
   "id": "9508100a",
   "metadata": {},
   "outputs": [],
   "source": [
    "async def ask_ai(q: str, stream: bool = True) -> AsyncGenerator[str, None]:\n",
    "    if stream:\n",
    "        result = Runner.run_streamed(triage_agent, input=q)\n",
    "        async for event in result.stream_events():\n",
    "            if event.type == \"raw_response_event\" and isinstance(event.data, ResponseTextDeltaEvent):\n",
    "                yield event.data.delta\n",
    "    else:\n",
    "        result = await Runner.run(triage_agent, q)\n",
    "        yield result.final_output"
   ]
  },
  {
   "cell_type": "markdown",
   "id": "751b29c5",
   "metadata": {},
   "source": [
    "### Adding Guardrails"
   ]
  },
  {
   "cell_type": "code",
   "execution_count": 54,
   "id": "f4958ac5",
   "metadata": {},
   "outputs": [],
   "source": [
    "class HomeworkOutput(BaseModel):\n",
    "    is_homework: bool\n",
    "    reasoning: str\n",
    "\n",
    "guardrail_agent = Agent(\n",
    "    name=\"Guardrail check\",\n",
    "    instructions=\"Check if the user is asking about homework.\",\n",
    "    output_type=HomeworkOutput,\n",
    ")\n",
    "\n",
    "async def homework_guardrail(ctx, agent, input_data):\n",
    "    result = await Runner.run(guardrail_agent, input_data, context=ctx.context)\n",
    "    final_output = result.final_output_as(HomeworkOutput)\n",
    "    return GuardrailFunctionOutput(\n",
    "        output_info=final_output,\n",
    "        tripwire_triggered=not final_output.is_homework,\n",
    "    )"
   ]
  },
  {
   "cell_type": "markdown",
   "id": "c5891c26",
   "metadata": {},
   "source": [
    "###### question"
   ]
  },
  {
   "cell_type": "code",
   "execution_count": 9,
   "id": "e7f39ea8",
   "metadata": {},
   "outputs": [],
   "source": [
    "question: str = \"What is the Pythagorean theorem?\""
   ]
  },
  {
   "cell_type": "markdown",
   "id": "d54882d9",
   "metadata": {},
   "source": [
    "#### Streaming Response (with Markdown)"
   ]
  },
  {
   "cell_type": "code",
   "execution_count": null,
   "id": "940ab477",
   "metadata": {},
   "outputs": [
    {
     "data": {
      "text/markdown": [
       "The Pythagorean theorem is a fundamental principle in geometry that relates to right-angled triangles. It states that in a right triangle, the square of the length of the hypotenuse (the side opposite the right angle) is equal to the sum of the squares of the lengths of the other two sides. This can be expressed with the formula:\n",
       "\n",
       "\\[ a^2 + b^2 = c^2 \\]\n",
       "\n",
       "where:\n",
       "- \\( c \\) is the length of the hypotenuse,\n",
       "- \\( a \\) and \\( b \\) are the lengths of the other two sides.\n",
       "\n",
       "### Example:\n",
       "\n",
       "1. **Identifying a Right Triangle:**\n",
       "   Imagine we have a right triangle with legs of lengths 3 and 4 units.\n",
       "\n",
       "2. **Applying the Pythagorean Theorem:**\n",
       "   Plug these values into the formula \\( a^2 + b^2 = c^2 \\):\n",
       "   \\[\n",
       "   3^2 + 4^2 = c^2\n",
       "   \\]\n",
       "   \\[\n",
       "   9 + 16 = c^2\n",
       "   \\]\n",
       "   \\[\n",
       "   25 = c^2\n",
       "   \\]\n",
       "\n",
       "3. **Solving for \\( c \\):**\n",
       "   To find \\( c \\), take the square root of both sides:\n",
       "   \\[\n",
       "   c = \\sqrt{25} = 5\n",
       "   \\]\n",
       "\n",
       "So, the hypotenuse \\( c \\) is 5 units long.\n",
       "\n",
       "The Pythagorean theorem is widely used in various applications, including construction, navigation, and physics, to calculate distances and ensure structures are level or squared."
      ],
      "text/plain": [
       "<IPython.core.display.Markdown object>"
      ]
     },
     "metadata": {},
     "output_type": "display_data"
    },
    {
     "data": {
      "text/plain": [
       "'The Pythagorean theorem is a fundamental principle in geometry that relates to right-angled triangles. It states that in a right triangle, the square of the length of the hypotenuse (the side opposite the right angle) is equal to the sum of the squares of the lengths of the other two sides. This can be expressed with the formula:\\n\\n\\\\[ a^2 + b^2 = c^2 \\\\]\\n\\nwhere:\\n- \\\\( c \\\\) is the length of the hypotenuse,\\n- \\\\( a \\\\) and \\\\( b \\\\) are the lengths of the other two sides.\\n\\n### Example:\\n\\n1. **Identifying a Right Triangle:**\\n   Imagine we have a right triangle with legs of lengths 3 and 4 units.\\n\\n2. **Applying the Pythagorean Theorem:**\\n   Plug these values into the formula \\\\( a^2 + b^2 = c^2 \\\\):\\n   \\\\[\\n   3^2 + 4^2 = c^2\\n   \\\\]\\n   \\\\[\\n   9 + 16 = c^2\\n   \\\\]\\n   \\\\[\\n   25 = c^2\\n   \\\\]\\n\\n3. **Solving for \\\\( c \\\\):**\\n   To find \\\\( c \\\\), take the square root of both sides:\\n   \\\\[\\n   c = \\\\sqrt{25} = 5\\n   \\\\]\\n\\nSo, the hypotenuse \\\\( c \\\\) is 5 units long.\\n\\nThe Pythagorean theorem is widely used in various applications, including construction, navigation, and physics, to calculate distances and ensure structures are level or squared.'"
      ]
     },
     "execution_count": 59,
     "metadata": {},
     "output_type": "execute_result"
    }
   ],
   "source": [
    "full_response: str = \"\"\n",
    "display_id: DisplayHandle = display(Markdown(full_response), display_id=True)\n",
    "\n",
    "async for chunk in ask_ai(question):\n",
    "    full_response += chunk\n",
    "    display_id.update(Markdown(full_response))\n",
    "    await asyncio.sleep(0.01)\n",
    "\n",
    "full_response"
   ]
  },
  {
   "cell_type": "markdown",
   "id": "3703afa6",
   "metadata": {},
   "source": [
    "#### Without Streaming"
   ]
  },
  {
   "cell_type": "code",
   "execution_count": null,
   "id": "6bf8c0dd",
   "metadata": {},
   "outputs": [
    {
     "data": {
      "text/markdown": [
       "The Pythagorean theorem is a fundamental principle in geometry that applies to right triangles. It states that in a right triangle, the square of the length of the hypotenuse (the side opposite the right angle) is equal to the sum of the squares of the lengths of the other two sides. \n",
       "\n",
       "### Formula:\n",
       "If \\( c \\) is the length of the hypotenuse and \\( a \\) and \\( b \\) are the lengths of the other two sides, the theorem is expressed as:\n",
       "\n",
       "\\[ c^2 = a^2 + b^2 \\]\n",
       "\n",
       "### Example:\n",
       "Imagine a right triangle where \\( a = 3 \\) units and \\( b = 4 \\) units. To find the length of the hypotenuse \\( c \\):\n",
       "\n",
       "1. **Square both non-hypotenuse sides:**\n",
       "\n",
       "   \\[\n",
       "   a^2 = 3^2 = 9\n",
       "   \\]\n",
       "\n",
       "   \\[\n",
       "   b^2 = 4^2 = 16\n",
       "   \\]\n",
       "\n",
       "2. **Add these squares:**\n",
       "\n",
       "   \\[\n",
       "   a^2 + b^2 = 9 + 16 = 25\n",
       "   \\]\n",
       "\n",
       "3. **Find the square root to determine \\( c \\):**\n",
       "\n",
       "   \\[\n",
       "   c = \\sqrt{25} = 5\n",
       "   \\]\n",
       "\n",
       "Therefore, the hypotenuse \\( c \\) is 5 units long.\n",
       "\n",
       "### Geometric Significance:\n",
       "The Pythagorean theorem helps to determine the distance between two points in a plane and is foundational for many areas in mathematics, physics, and engineering, including trigonometry and calculus.\n",
       "\n",
       "If you have any specific questions or need more examples, feel free to ask!"
      ],
      "text/plain": [
       "<IPython.core.display.Markdown object>"
      ]
     },
     "metadata": {},
     "output_type": "display_data"
    }
   ],
   "source": [
    "full_response = \"\"\n",
    "async for chunk in ask_ai(question, stream=False):\n",
    "    full_response += chunk\n",
    "display(Markdown(full_response))"
   ]
  }
 ],
 "metadata": {
  "kernelspec": {
   "display_name": "openai-venv (3.11.5)",
   "language": "python",
   "name": "python3"
  },
  "language_info": {
   "codemirror_mode": {
    "name": "ipython",
    "version": 3
   },
   "file_extension": ".py",
   "mimetype": "text/x-python",
   "name": "python",
   "nbconvert_exporter": "python",
   "pygments_lexer": "ipython3",
   "version": "3.11.5"
  }
 },
 "nbformat": 4,
 "nbformat_minor": 5
}
